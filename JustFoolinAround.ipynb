{
 "cells": [
  {
   "cell_type": "code",
   "execution_count": 1,
   "metadata": {
    "collapsed": false
   },
   "outputs": [],
   "source": [
    "import run_run as rr\n",
    "import matplotlib.pyplot as plt\n",
    "%matplotlib inline\n",
    "import seaborn as sns"
   ]
  },
  {
   "cell_type": "code",
   "execution_count": 2,
   "metadata": {
    "collapsed": true
   },
   "outputs": [],
   "source": [
    "def plot_data(data):\n",
    "    fig, axes = plt.subplots(nrows = 4, ncols = 2, figsize=(12,8.5))\n",
    "    axes = axes.flatten()\n",
    "    plt.subplots_adjust(left=.15, bottom=.06, right=.95, top=.97, \n",
    "                        wspace=.17, hspace=.30)\n",
    "    curr = axes[0]\n",
    "    curr.set_ylabel('length')\n",
    "    curr.set_title('L (V)')\n",
    "    curr.plot(data['length'])\n",
    "    curr = axes[1]\n",
    "    curr.set_ylabel('F (V)')\n",
    "    curr.set_title('Force')\n",
    "    curr.plot(data['force'])\n",
    "    curr = axes[2]\n",
    "    curr.set_ylabel('Stim (V)')\n",
    "    curr.set_title('Stimulation')\n",
    "    curr.plot(data['stimulation'])\n",
    "    curr = axes[3]\n",
    "    curr.set_ylabel('Beam (BPM diode)')\n",
    "    curr.set_title('Beam')\n",
    "    curr.plot(data['beam'])\n",
    "    curr = axes[4]\n",
    "    curr.set_ylabel('Exposure trigger (V)')\n",
    "    curr.set_title('Pilatus')\n",
    "    curr.plot(data['exposure'])\n",
    "    curr = axes[5]\n",
    "    curr.set_title('PSD1')\n",
    "    curr.plot(data['psd1'])\n",
    "    curr = axes[6]\n",
    "    curr.set_title('PSD2')\n",
    "    curr.plot(data['psd2'])\n",
    "    curr = axes[7]\n",
    "    curr.set_title('PSD diff over sum')\n",
    "    diff_over_sum = lambda p1, p2: np.subtract(p1, p2)/np.add(p1,p2)\n",
    "    curr.plot(diff_over_sum(data['psd1'], data['psd2']))\n",
    "    plt.tight_layout()\n",
    "    plt.show()\n",
    "\n",
    "def grab_and_plot():\n",
    "    data = rr.grab()\n",
    "    plot_data(data)\n",
    "    return data"
   ]
  },
  {
   "cell_type": "code",
   "execution_count": null,
   "metadata": {
    "collapsed": false
   },
   "outputs": [],
   "source": [
    "%pdb"
   ]
  },
  {
   "cell_type": "code",
   "execution_count": 3,
   "metadata": {
    "collapsed": false
   },
   "outputs": [
    {
     "name": "stdout",
     "output_type": "stream",
     "text": [
      "done\n"
     ]
    },
    {
     "ename": "IOError",
     "evalue": "[Errno 2] No such file or directory: './trials/T0000.pkl'",
     "output_type": "error",
     "traceback": [
      "\u001b[1;31m---------------------------------------------------------------------------\u001b[0m",
      "\u001b[1;31mIOError\u001b[0m                                   Traceback (most recent call last)",
      "\u001b[1;32m<ipython-input-3-230a43644e41>\u001b[0m in \u001b[0;36m<module>\u001b[1;34m()\u001b[0m\n\u001b[0;32m     10\u001b[0m }\n\u001b[0;32m     11\u001b[0m \u001b[1;33m\u001b[0m\u001b[0m\n\u001b[1;32m---> 12\u001b[1;33m \u001b[0mdata\u001b[0m \u001b[1;33m=\u001b[0m \u001b[0mrr\u001b[0m\u001b[1;33m.\u001b[0m\u001b[0mgrab\u001b[0m\u001b[1;33m(\u001b[0m\u001b[0mrun_deets\u001b[0m\u001b[1;33m)\u001b[0m\u001b[1;33m\u001b[0m\u001b[0m\n\u001b[0m",
      "\u001b[1;32mC:\\Users\\Dave\\code\\daq_argonne\\run_run.pyc\u001b[0m in \u001b[0;36mgrab\u001b[1;34m(input_dict)\u001b[0m\n\u001b[0;32m     73\u001b[0m     \u001b[0mdata\u001b[0m\u001b[1;33m.\u001b[0m\u001b[0mupdate\u001b[0m\u001b[1;33m(\u001b[0m\u001b[0minput_dict\u001b[0m\u001b[1;33m)\u001b[0m\u001b[1;33m\u001b[0m\u001b[0m\n\u001b[0;32m     74\u001b[0m     \u001b[1;31m## Write out data\u001b[0m\u001b[1;33m\u001b[0m\u001b[1;33m\u001b[0m\u001b[0m\n\u001b[1;32m---> 75\u001b[1;33m     \u001b[0moutput_file\u001b[0m \u001b[1;33m=\u001b[0m \u001b[0mopen\u001b[0m\u001b[1;33m(\u001b[0m\u001b[1;34m'./trials/T%04i.pkl'\u001b[0m\u001b[1;33m%\u001b[0m\u001b[0mtrial_number\u001b[0m\u001b[1;33m,\u001b[0m \u001b[1;34m'wb'\u001b[0m\u001b[1;33m)\u001b[0m\u001b[1;33m\u001b[0m\u001b[0m\n\u001b[0m\u001b[0;32m     76\u001b[0m     \u001b[0mpickle\u001b[0m\u001b[1;33m.\u001b[0m\u001b[0mdump\u001b[0m\u001b[1;33m(\u001b[0m\u001b[0mdata\u001b[0m\u001b[1;33m,\u001b[0m \u001b[0moutput_file\u001b[0m\u001b[1;33m)\u001b[0m\u001b[1;33m\u001b[0m\u001b[0m\n\u001b[0;32m     77\u001b[0m     \u001b[0moutput_file\u001b[0m\u001b[1;33m.\u001b[0m\u001b[0mclose\u001b[0m\u001b[1;33m(\u001b[0m\u001b[1;33m)\u001b[0m\u001b[1;33m\u001b[0m\u001b[0m\n",
      "\u001b[1;31mIOError\u001b[0m: [Errno 2] No such file or directory: './trials/T0000.pkl'"
     ]
    }
   ],
   "source": [
    "run_deets = {\n",
    "    \"fiber_number\":0,\n",
    "    \"mount_length\":2.14,\n",
    "    \"exposure_delay\":10,\n",
    "    \"fiber_offset\":0.0,\n",
    "    \"exposure_length\": 100,\n",
    "    \"species\": 'moth',\n",
    "    \"trial_number\":0,\n",
    "    \"notes\": \"\"\n",
    "}\n",
    "\n",
    "data = rr.grab(run_deets)"
   ]
  },
  {
   "cell_type": "code",
   "execution_count": null,
   "metadata": {
    "collapsed": false
   },
   "outputs": [],
   "source": [
    "plot_data(data)"
   ]
  },
  {
   "cell_type": "code",
   "execution_count": null,
   "metadata": {
    "collapsed": false,
    "scrolled": false
   },
   "outputs": [],
   "source": [
    "data = grab_and_plot()"
   ]
  },
  {
   "cell_type": "markdown",
   "metadata": {
    "collapsed": true
   },
   "source": [
    "# Let's try this with a refactored run_run.py"
   ]
  },
  {
   "cell_type": "code",
   "execution_count": null,
   "metadata": {
    "collapsed": true
   },
   "outputs": [],
   "source": [
    "import run_run"
   ]
  },
  {
   "cell_type": "code",
   "execution_count": null,
   "metadata": {
    "collapsed": true
   },
   "outputs": [],
   "source": [
    "run_deets = {\n",
    "    \"fiber_number\":0,\n",
    "    \"mount_length\":2.14,\n",
    "    \"exposure_delay\":10,\n",
    "    \"fiber_offset\":0.0,\n",
    "    \"exposure_length\": 100,\n",
    "    \"species\": 'moth',\n",
    "    \"trial_number\":0,\n",
    "    \"notes\": \"\"\n",
    "}\n",
    "\n",
    "trial_number = 0\n",
    "\n",
    "def increase_trial_and_run(notes=''):\n",
    "    run_deets[\"trial_number\"] = run_deets[\"trial_number\"] + 1\n",
    "    run_deets[\"notes\"] = notes\n",
    "    data = run_run.grab(input_dict)"
   ]
  },
  {
   "cell_type": "code",
   "execution_count": null,
   "metadata": {
    "collapsed": false
   },
   "outputs": [],
   "source": [
    "pwd"
   ]
  },
  {
   "cell_type": "code",
   "execution_count": null,
   "metadata": {
    "collapsed": false
   },
   "outputs": [],
   "source": [
    "ls 'C:\\\\Users\\Dave\\code'"
   ]
  },
  {
   "cell_type": "raw",
   "metadata": {},
   "source": []
  }
 ],
 "metadata": {
  "kernelspec": {
   "display_name": "Python 2",
   "language": "python",
   "name": "python2"
  },
  "language_info": {
   "codemirror_mode": {
    "name": "ipython",
    "version": 2
   },
   "file_extension": ".py",
   "mimetype": "text/x-python",
   "name": "python",
   "nbconvert_exporter": "python",
   "pygments_lexer": "ipython2",
   "version": "2.7.11"
  }
 },
 "nbformat": 4,
 "nbformat_minor": 0
}
